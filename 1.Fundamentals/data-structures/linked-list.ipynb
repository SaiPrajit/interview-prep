{
 "cells": [
  {
   "cell_type": "markdown",
   "metadata": {},
   "source": [
    "#  Chapter 7 (Goodrich, Michael) - Linked Lists"
   ]
  },
  {
   "cell_type": "markdown",
   "metadata": {},
   "source": [
    "## 7.1 Singly Linked Lists\n",
    "\n",
    "is a collection of nodes that collectively\n",
    "form a linear sequence. Each node stores a reference to an object that is an element\n",
    "of the sequence, as well as a reference to the next node of the list"
   ]
  },
  {
   "cell_type": "code",
   "execution_count": null,
   "metadata": {},
   "outputs": [
    {
     "ename": "",
     "evalue": "",
     "output_type": "error",
     "traceback": [
      "\u001b[1;31mFailed to start the Kernel. \n",
      "Failed to start the Kernel 'Python 3.8.10 64-bit'. \n",
      "View Jupyter <a href='command:jupyter.viewOutput'>log</a> for further details. Kernel has not been started"
     ]
    }
   ],
   "source": [
    "# ightweight, nonpublic class for storing a singly linked node.\n",
    "class Node:\n",
    "    __slots__ = '_element' , '_next'    # streamline memory usage \n",
    "   \n",
    "    def __init__ (self, element, next): # initialize node’s ﬁelds\n",
    "        self._element = element     # reference to user’s element\n",
    "        self._next = next           # reference to next node"
   ]
  },
  {
   "cell_type": "code",
   "execution_count": null,
   "metadata": {},
   "outputs": [],
   "source": [
    "# LIFO Stack implementation using a singly linked list for storage\n",
    "class LinkedStack:\n",
    "\n",
    "#-------------------------- nested Node class --------------------------\n",
    "    class Node:\n",
    "        __slots__ = '_element' , '_next'    # streamline memory usage \n",
    "    \n",
    "        def __init__ (self, element, next): # initialize node’s ﬁelds\n",
    "            self._element = element     # reference to user’s element\n",
    "            self._next = next   \n",
    "        \n",
    "\n",
    "#------------------------------- stack methods -------------------------------\n",
    "\n",
    "def __init__ (self):\n",
    "    \"\"\"Create an empty stack.\"\"\"\n",
    "    self._head = None # reference to the head node\n",
    "    self._size = 0    # number of stack elements\n",
    "\n",
    "def __len__(self):\n",
    "    return self._size\n",
    "\n",
    "def is_empty(self):\n",
    "    return self._size == 0\n",
    "\n",
    "def push(self, e):\n",
    "    self._head = self._Node(e,self._head)\n",
    "    self._size +=1"
   ]
  }
 ],
 "metadata": {
  "interpreter": {
   "hash": "e7370f93d1d0cde622a1f8e1c04877d8463912d04d973331ad4851f04de6915a"
  },
  "kernelspec": {
   "display_name": "Python 3.8.10 64-bit",
   "language": "python",
   "name": "python3"
  },
  "language_info": {
   "name": "python",
   "version": "3.8.10"
  },
  "orig_nbformat": 4
 },
 "nbformat": 4,
 "nbformat_minor": 2
}
