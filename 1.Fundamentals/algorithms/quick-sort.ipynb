{
 "cells": [
  {
   "cell_type": "markdown",
   "metadata": {},
   "source": [
    "# Quick Sort"
   ]
  },
  {
   "cell_type": "code",
   "execution_count": null,
   "metadata": {},
   "outputs": [],
   "source": [
    "# Python program for implementation of Quicksort Sort\n",
    "\n",
    "# This function takes last element as pivot, places\n",
    "# the pivot element at its correct position in sorted\n",
    "# array, and places all smaller (smaller than pivot)\n",
    "# to left of pivot and all greater elements to right\n",
    "# of pivot\n",
    "\n",
    "\n",
    "def partition(arr, low, high):\n",
    "\ti = (low-1)\t\t # index of smaller element\n",
    "\tpivot = arr[high]\t # pivot\n",
    "\n",
    "\tfor j in range(low, high):\n",
    "\n",
    "\t\t# If current element is smaller than or\n",
    "\t\t# equal to pivot\n",
    "\t\tif arr[j] <= pivot:\n",
    "\n",
    "\t\t\t# increment index of smaller element\n",
    "\t\t\ti = i+1\n",
    "\t\t\tarr[i], arr[j] = arr[j], arr[i]\n",
    "\n",
    "\tarr[i+1], arr[high] = arr[high], arr[i+1]\n",
    "\treturn (i+1)\n",
    "\n",
    "# The main function that implements QuickSort\n",
    "# arr[] --> Array to be sorted,\n",
    "# low --> Starting index,\n",
    "# high --> Ending index\n",
    "\n",
    "# Function to do Quick sort\n",
    "\n",
    "\n",
    "def quickSort(arr, low, high):\n",
    "\tif len(arr) == 1:\n",
    "\t\treturn arr\n",
    "\tif low < high:\n",
    "\n",
    "\t\t# pi is partitioning index, arr[p] is now\n",
    "\t\t# at right place\n",
    "\t\tpi = partition(arr, low, high)\n",
    "\n",
    "\t\t# Separately sort elements before\n",
    "\t\t# partition and after partition\n",
    "\t\tquickSort(arr, low, pi-1)\n",
    "\t\tquickSort(arr, pi+1, high)\n",
    "\n",
    "\n",
    "# Driver code to test above\n",
    "arr = [10, 7, 8, 9, 1, 5]\n",
    "n = len(arr)\n",
    "quickSort(arr, 0, n-1)\n",
    "print(\"Sorted array is:\")\n",
    "for i in range(n):\n",
    "\tprint(\"%d\" % arr[i])\n",
    "\n",
    "# This code is contributed by Mohit Kumra\n",
    "#This code in improved by https://github.com/anushkrishnav\n"
   ]
  }
 ],
 "metadata": {
  "language_info": {
   "name": "python"
  },
  "orig_nbformat": 4
 },
 "nbformat": 4,
 "nbformat_minor": 2
}
